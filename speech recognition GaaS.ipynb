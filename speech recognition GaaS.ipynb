{
 "cells": [
  {
   "cell_type": "code",
   "execution_count": 1,
   "metadata": {},
   "outputs": [
    {
     "name": "stdout",
     "output_type": "stream",
     "text": [
      "please say :)\n",
      "yes\n",
      "sorry I didn't get you\n"
     ]
    }
   ],
   "source": [
    "import webbrowser as wb\n",
    "import pyttsx3\n",
    "speaker = pyttsx3.init()\n",
    "speaker.say(\"What would you like to do today?\")\n",
    "speaker.runAndWait()\n",
    "import speech_recognition as sr\n",
    "mic = sr.Microphone()\n",
    "r = sr.Recognizer()\n",
    "with mic as source:\n",
    "    r.adjust_for_ambient_noise(source, duration=0.5)\n",
    "    print(\"please say :)\")\n",
    "    audio = r.listen(source)\n",
    "    text = r.recognize_google(audio)\n",
    "    #text = r.recognize_google(audio)\n",
    "    #print(123)\n",
    "    #print(text)\n",
    "    if \"game\" in text:\n",
    "        speaker.say(\"I think you want to play a counter Strike, am I correct? Please say yes or no \")\n",
    "        speaker.runAndWait()\n",
    "        audio = r.listen(source)\n",
    "        text = r.recognize_google(audio)\n",
    "        print(text)\n",
    "        if \"yes\" in text:\n",
    "            wb.open_new_tab('http://192.168.43.246/cgi-bin/counter-strike.py')\n",
    "        else:\n",
    "            print(\"sorry I didn't get you\")\n",
    "        \n",
    "    if \"movie\" in text:\n",
    "        speaker.say(\"I think you want to watch a movie, am I correct? Please say yes or no \")\n",
    "        speaker.runAndWait()\n",
    "        audio = r.listen(source)\n",
    "        text = r.recognize_google(audio)\n",
    "        print(text)\n",
    "        if \"yes\" in text:\n",
    "            wb.open_new_tab('http://192.168.43.246/vaas/')\n",
    "        else:\n",
    "            print(\"sorry I didn't get you\")\n",
    "    else:\n",
    "         print(\"sorry I didn't get you\")             \n",
    "   "
   ]
  },
  {
   "cell_type": "code",
   "execution_count": null,
   "metadata": {},
   "outputs": [],
   "source": []
  },
  {
   "cell_type": "code",
   "execution_count": null,
   "metadata": {},
   "outputs": [],
   "source": []
  }
 ],
 "metadata": {
  "kernelspec": {
   "display_name": "Python 3",
   "language": "python",
   "name": "python3"
  },
  "language_info": {
   "codemirror_mode": {
    "name": "ipython",
    "version": 3
   },
   "file_extension": ".py",
   "mimetype": "text/x-python",
   "name": "python",
   "nbconvert_exporter": "python",
   "pygments_lexer": "ipython3",
   "version": "3.6.4"
  }
 },
 "nbformat": 4,
 "nbformat_minor": 2
}
